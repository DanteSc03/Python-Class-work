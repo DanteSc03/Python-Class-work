{
  "cells": [
    {
      "cell_type": "markdown",
      "metadata": {
        "id": "view-in-github",
        "colab_type": "text"
      },
      "source": [
        "<a href=\"https://colab.research.google.com/github/DanteSc03/Python-Class-work/blob/main/Schrantz_Dante.ipynb\" target=\"_parent\"><img src=\"https://colab.research.google.com/assets/colab-badge.svg\" alt=\"Open In Colab\"/></a>"
      ]
    },
    {
      "cell_type": "markdown",
      "metadata": {
        "id": "AvYW-sBdkqES"
      },
      "source": [
        "# Exercises"
      ]
    },
    {
      "cell_type": "markdown",
      "metadata": {
        "id": "o6961rBbkqES"
      },
      "source": [
        "1. Create a variable and store a message in it. Print the variable. Rewrite the variable with another message and print it again."
      ]
    },
    {
      "cell_type": "code",
      "source": [
        "message= \"Hello There\"\n",
        "print(message)\n",
        "message= \"Hello there fellas\"\n",
        "print(message)"
      ],
      "metadata": {
        "colab": {
          "base_uri": "https://localhost:8080/"
        },
        "id": "sc12EchNLaWO",
        "outputId": "66e67085-8c65-4852-c69f-c91190dedc75"
      },
      "execution_count": 2,
      "outputs": [
        {
          "output_type": "stream",
          "name": "stdout",
          "text": [
            "Hello There\n",
            "Hello there fellas\n"
          ]
        }
      ]
    },
    {
      "cell_type": "markdown",
      "metadata": {
        "id": "Rrfdp-BEkqET"
      },
      "source": [
        "2. Save your name in a variable. Using that variable, print your name in lower and upper case letters."
      ]
    },
    {
      "cell_type": "code",
      "source": [
        "\n",
        "first= \"Dante\"\n",
        "print(first.upper())\n",
        "print(first.lower())\n",
        "print(first.title())\n"
      ],
      "metadata": {
        "colab": {
          "base_uri": "https://localhost:8080/"
        },
        "id": "SRg4bw0KLwc9",
        "outputId": "9b197987-77e8-4ad6-82bd-e63e25fc4914"
      },
      "execution_count": 7,
      "outputs": [
        {
          "output_type": "stream",
          "name": "stdout",
          "text": [
            "DANTE\n",
            "dante\n",
            "Dante\n"
          ]
        }
      ]
    },
    {
      "cell_type": "markdown",
      "metadata": {
        "id": "qlI0MQdXkqET"
      },
      "source": [
        "3. Save your name and surnames in different variables and concatenate them to print your whole name."
      ]
    },
    {
      "cell_type": "code",
      "source": [
        "first= \"Dante\"\n",
        "last = \"Schrantz\"\n",
        "print(first,last)"
      ],
      "metadata": {
        "colab": {
          "base_uri": "https://localhost:8080/"
        },
        "id": "v4C-1s2nMQ5s",
        "outputId": "54ed64a8-37c9-4a8f-986c-8a73f86f229c"
      },
      "execution_count": 8,
      "outputs": [
        {
          "output_type": "stream",
          "name": "stdout",
          "text": [
            "Dante Schrantz\n"
          ]
        }
      ]
    },
    {
      "cell_type": "markdown",
      "metadata": {
        "id": "XwddAqfekqEU"
      },
      "source": [
        "4. Save your name in a variable with blank spaces at both ends. Print it. Remove blank spaces on the left, on the right side and on both sides. Print all the messages."
      ]
    },
    {
      "cell_type": "code",
      "source": [
        "first=\" Dante \"\n",
        "print(first)\n",
        "print(first.strip())"
      ],
      "metadata": {
        "colab": {
          "base_uri": "https://localhost:8080/"
        },
        "id": "SaH1G1DZMoFn",
        "outputId": "3afa8bba-ec69-4ab0-bef2-6a54690807a5"
      },
      "execution_count": 11,
      "outputs": [
        {
          "output_type": "stream",
          "name": "stdout",
          "text": [
            " Dante \n",
            "Dante\n"
          ]
        }
      ]
    },
    {
      "cell_type": "markdown",
      "source": [
        " 5. Create some commands in Python to check if a number is even or odd and print the result."
      ],
      "metadata": {
        "id": "0MacOGmmkwQC"
      }
    },
    {
      "cell_type": "code",
      "source": [
        "num = 9\n",
        "if num % 2 == 0:\n",
        "  print(\"Even Number\")\n",
        "else:\n",
        "  print(\"Odd Number\")\n",
        "\n",
        "num = 8\n",
        "if num % 2 == 0:\n",
        "  print(\"Even Number\")\n",
        "else:\n",
        "  print(\"Odd Number\")\n",
        "\n",
        "num = 4285923457\n",
        "if num % 2 == 0:\n",
        "  print(\"Even Number\")\n",
        "else:\n",
        "  print(\"Odd Number\")"
      ],
      "metadata": {
        "colab": {
          "base_uri": "https://localhost:8080/"
        },
        "id": "C7R4vYxANR5c",
        "outputId": "b6c300ac-8fe8-4676-8777-4a3297a8a7e1"
      },
      "execution_count": 19,
      "outputs": [
        {
          "output_type": "stream",
          "name": "stdout",
          "text": [
            "Odd Number\n",
            "Even Number\n",
            "Odd Number\n"
          ]
        }
      ]
    },
    {
      "cell_type": "markdown",
      "source": [
        "6. Create some commands in Python to check if two strings are equal and print the result."
      ],
      "metadata": {
        "id": "5l4uglkdlDH_"
      }
    },
    {
      "cell_type": "code",
      "source": [
        "str1= \"apple\"\n",
        "str2= \"French Toast\"\n",
        "\n",
        "if str1==str2:\n",
        "  print(\"The Strings are the same\")\n",
        "else:\n",
        "  print(\"The strings are not the same\")\n",
        "\n",
        "str1= \"apple\"\n",
        "str2= \"apple\"\n",
        "\n",
        "if str1==str2:\n",
        "  print(\"The Strings are the same\")\n",
        "else:\n",
        "  print(\"The strings are not the same\")"
      ],
      "metadata": {
        "colab": {
          "base_uri": "https://localhost:8080/"
        },
        "id": "B0m3pg_UOnEU",
        "outputId": "c1c67512-62a0-4488-dfad-c1de9e0bb7e6"
      },
      "execution_count": 16,
      "outputs": [
        {
          "output_type": "stream",
          "name": "stdout",
          "text": [
            "The strings are not the same\n",
            "The Strings are the same\n"
          ]
        }
      ]
    },
    {
      "cell_type": "markdown",
      "metadata": {
        "id": "7gkg_6vxkqEa"
      },
      "source": [
        "7. Imagine you bougth 900 shares of an important Energy company, for a total price 0f 5000 euros 3 years ago. Today you decide to sell them for a price of 5575 euros. Write a program in python that calculates the annual interest rate earned with the benefit of the operation. Define the variables you need and print the information in a clear way."
      ]
    },
    {
      "cell_type": "code",
      "source": [
        "import numpy as np\n",
        "numShares = 900\n",
        "purchase = 5000\n",
        "time = 3\n",
        "selling = 5575\n",
        "\n",
        "print(selling/purchase)\n",
        "\n",
        "interest = np.cbrt(selling/purchase)-1\n",
        "\n",
        "print(interest)\n"
      ],
      "metadata": {
        "colab": {
          "base_uri": "https://localhost:8080/"
        },
        "id": "ZtCIwZOXO6br",
        "outputId": "e43b3993-d900-4290-bdf5-04ca18be510a"
      },
      "execution_count": 9,
      "outputs": [
        {
          "output_type": "stream",
          "name": "stdout",
          "text": [
            "1.115\n",
            "0.03695112981997606\n"
          ]
        }
      ]
    },
    {
      "cell_type": "markdown",
      "metadata": {
        "id": "eCfyA6BWkqEa"
      },
      "source": [
        "8. The Faculty of Economics of the University of Navarra is carrying out a study about the incoming students in the different degrees. In Data Analytics there are 30 students and the 10% are incoming students; in International Economics and finance there are 20 students and 20% are incoming students; in General Management there are 40 students and the 25% are incoming students. Create a program in python that calculates the average number of incoming students in the Faculty. What is the degree with more incoming students? Use comparison operators to get the answer."
      ]
    },
    {
      "cell_type": "code",
      "source": [
        "DA = 30\n",
        "PerDA = 0.1\n",
        "IncDA = DA*PerDA\n",
        "IEF = 20\n",
        "PerIEF = 0.2\n",
        "IncIEF = IEF*PerIEF\n",
        "GM = 40\n",
        "PerGM = 0.25\n",
        "IncGM = GM*PerGM\n",
        "\n",
        "print(IncDA)\n",
        "print(IncIEF)\n",
        "print(IncGM)\n",
        "\n",
        "print(IncDA+IncIEF+IncGM)\n",
        "print((IncDA+IncIEF+IncGM)/3)\n",
        "\n",
        "print(IncDA>IncIEF)\n",
        "print(IncIEF>IncDA)\n",
        "print(IncIEF>IncGM)\n",
        "print(IncGM>IncIEF)\n",
        "print(IncDA>IncIEF)\n",
        "print(IncIEF>IncDA)"
      ],
      "metadata": {
        "colab": {
          "base_uri": "https://localhost:8080/"
        },
        "id": "6GwE5sDnRJom",
        "outputId": "19426ffa-0ee3-4bbd-b773-0d2dccbd608a"
      },
      "execution_count": 21,
      "outputs": [
        {
          "output_type": "stream",
          "name": "stdout",
          "text": [
            "3.0\n",
            "4.0\n",
            "10.0\n",
            "17.0\n",
            "5.666666666666667\n",
            "False\n",
            "True\n",
            "False\n",
            "True\n",
            "False\n",
            "True\n"
          ]
        }
      ]
    },
    {
      "cell_type": "markdown",
      "metadata": {
        "id": "HP8uh59xkqEb"
      },
      "source": [
        "9. Identify regular patterns in the following strings and write expressions that starting with shorter strings and using concatenation and repetition of strings, you produce the strings shown. Use the variables you need."
      ]
    },
    {
      "cell_type": "code",
      "execution_count": 38,
      "metadata": {
        "collapsed": true,
        "id": "XNlQVRAskqEc",
        "colab": {
          "base_uri": "https://localhost:8080/"
        },
        "outputId": "67c15837-46a6-4c86-af9a-9eef45623e00"
      },
      "outputs": [
        {
          "output_type": "stream",
          "name": "stdout",
          "text": [
            "%%%%%./././<-><->\n"
          ]
        }
      ],
      "source": [
        "print('%%%%%./././<-><->')"
      ]
    },
    {
      "cell_type": "code",
      "execution_count": 39,
      "metadata": {
        "id": "W8jgaGapkqEc",
        "colab": {
          "base_uri": "https://localhost:8080/"
        },
        "outputId": "a85b2d02-4466-41fa-83be-93a741296c06"
      },
      "outputs": [
        {
          "output_type": "stream",
          "name": "stdout",
          "text": [
            "........*****---*****---........*****---*****---\n"
          ]
        }
      ],
      "source": [
        "print('........*****---*****---........*****---*****---')"
      ]
    },
    {
      "cell_type": "code",
      "source": [
        "a = \"%\"\n",
        "b = \"./\"\n",
        "c = \"<->\"\n",
        "print(a*5+b*3+c)\n",
        "\n",
        "d=\".\"\n",
        "e= \"*\"\n",
        "f=\"-\"\n",
        "print((8*d+5*e+3*f+5*e+3*f)*2)"
      ],
      "metadata": {
        "colab": {
          "base_uri": "https://localhost:8080/"
        },
        "id": "8ufhh66yc3SP",
        "outputId": "87b96a0b-20b5-4145-e94e-ef92e10e455b"
      },
      "execution_count": 20,
      "outputs": [
        {
          "output_type": "stream",
          "name": "stdout",
          "text": [
            "%%%%%./././<->\n",
            "........*****---*****---........*****---*****---\n"
          ]
        }
      ]
    },
    {
      "cell_type": "markdown",
      "metadata": {
        "id": "rOlIzL0AkqEc"
      },
      "source": [
        "10. Create two boolean variables, is_raining and is_sunny, and assign them values. Print whether it's a good day based on these variables."
      ]
    },
    {
      "cell_type": "code",
      "source": [
        "is_raining= False\n",
        "is_sunny= True\n",
        "\n",
        "if ((is_sunny == True) & (is_raining== False)):\n",
        "  print(\"It's a beautiful day\")\n",
        "else:\n",
        "  print(\"It's an ok day\")\n",
        "\n",
        "is_raining= False\n",
        "is_sunny= False\n",
        "\n",
        "if ((is_sunny == True) & (is_raining== False)):\n",
        "  print(\"It's a beautiful day\")\n",
        "else:\n",
        "  print(\"It's an ok day\")\n",
        "\n",
        "is_raining= True\n",
        "is_sunny= False\n",
        "\n",
        "if ((is_sunny == True) & (is_raining== False)):\n",
        "  print(\"It's a beautiful day\")\n",
        "else:\n",
        "  print(\"It's an ok day\")\n",
        "\n",
        "\n",
        "is_raining= True\n",
        "is_sunny= True\n",
        "\n",
        "if ((is_sunny == True) & (is_raining== False)):\n",
        "  print(\"It's a beautiful day\")\n",
        "else:\n",
        "  print(\"It's an ok day\")"
      ],
      "metadata": {
        "colab": {
          "base_uri": "https://localhost:8080/"
        },
        "id": "cvrO8QCsT0To",
        "outputId": "fb1850fb-f486-400c-f15b-d79894a11d45"
      },
      "execution_count": 37,
      "outputs": [
        {
          "output_type": "stream",
          "name": "stdout",
          "text": [
            "It's a beautiful day\n",
            "It's an ok day\n",
            "It's an ok day\n",
            "It's an ok day\n"
          ]
        }
      ]
    }
  ],
  "metadata": {
    "kernelspec": {
      "display_name": "Python 3",
      "language": "python",
      "name": "python3"
    },
    "language_info": {
      "codemirror_mode": {
        "name": "ipython",
        "version": 3
      },
      "file_extension": ".py",
      "mimetype": "text/x-python",
      "name": "python",
      "nbconvert_exporter": "python",
      "pygments_lexer": "ipython3",
      "version": "3.6.5"
    },
    "colab": {
      "provenance": [],
      "toc_visible": true,
      "include_colab_link": true
    }
  },
  "nbformat": 4,
  "nbformat_minor": 0
}